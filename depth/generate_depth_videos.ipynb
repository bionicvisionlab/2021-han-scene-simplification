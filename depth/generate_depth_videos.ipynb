{
 "cells": [
  {
   "cell_type": "code",
   "execution_count": null,
   "metadata": {},
   "outputs": [],
   "source": [
    "import os\n",
    "import numpy as np\n",
    "import imageio\n",
    "from depth_to_image import *"
   ]
  },
  {
   "cell_type": "code",
   "execution_count": null,
   "metadata": {},
   "outputs": [],
   "source": [
    "def gen_depth_videos(folder, mode, min_brightness, max_brightness, clipped=False, p=95):\n",
    "    num_frames = len(os.listdir(folder))\n",
    "    depth_list = [np.squeeze(np.load(\"{}/frame{}_depth.npy\".format(folder, i))) for i in range(num_frames)]\n",
    "    depth_shape = depth_list[0].shape\n",
    "    if clipped:\n",
    "        depth_clipped = []\n",
    "        for depth in depth_list:\n",
    "            vmax = np.percentile(depth, p)\n",
    "            depth[depth > vmax] = vmax\n",
    "            depth_clipped.append(depth)\n",
    "        final_images = [gen_image_brightness(depth_clipped[i], np.ones(depth_shape, dtype=bool), mode=mode, min_brightness=min_brightness, max_brightness=max_brightness) for i in range(num_frames)]\n",
    "    else:\n",
    "        final_images = [gen_image_brightness(depth_list[i], np.ones(depth_shape, dtype=bool), mode=mode, min_brightness=min_brightness, max_brightness=max_brightness) for i in range(num_frames)]\n",
    "    w = imageio.get_writer(\"sample.mp4\", mode='I', fps=20)\n",
    "    for i in range(len(final_images)):\n",
    "        w.append_data(final_images[i])\n",
    "    w.close()"
   ]
  },
  {
   "cell_type": "markdown",
   "metadata": {},
   "source": [
    "The depth representation when used alone:"
   ]
  },
  {
   "cell_type": "code",
   "execution_count": null,
   "metadata": {},
   "outputs": [],
   "source": [
    "folder = \"sample1-depth\"\n",
    "gen_depth_videos(folder, mode=\"exponential\", min_brightness=0, max_brightness=180, clipped=True, p=80)"
   ]
  },
  {
   "cell_type": "markdown",
   "metadata": {},
   "source": [
    "The depth representation when used in the combination algorithm:"
   ]
  },
  {
   "cell_type": "code",
   "execution_count": null,
   "metadata": {},
   "outputs": [],
   "source": [
    "folder = \"sample1-depth\"\n",
    "gen_depth_videos(folder, mode=\"flipped_quad\", min_brightness=0, max_brightness=180, clipped=True, p=90)"
   ]
  },
  {
   "cell_type": "code",
   "execution_count": null,
   "metadata": {},
   "outputs": [],
   "source": []
  }
 ],
 "metadata": {
  "kernelspec": {
   "display_name": "py36",
   "language": "python",
   "name": "py36_latest"
  },
  "language_info": {
   "codemirror_mode": {
    "name": "ipython",
    "version": 3
   },
   "file_extension": ".py",
   "mimetype": "text/x-python",
   "name": "python",
   "nbconvert_exporter": "python",
   "pygments_lexer": "ipython3",
   "version": "3.6.10"
  }
 },
 "nbformat": 4,
 "nbformat_minor": 4
}
