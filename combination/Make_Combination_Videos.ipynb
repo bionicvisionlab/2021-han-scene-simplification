{
  "nbformat": 4,
  "nbformat_minor": 0,
  "metadata": {
    "colab": {
      "name": "Make Combination Videos.ipynb",
      "provenance": [],
      "collapsed_sections": [],
      "toc_visible": true
    },
    "kernelspec": {
      "name": "python3",
      "display_name": "Python 3"
    }
  },
  "cells": [
    {
      "cell_type": "code",
      "metadata": {
        "id": "p6mKiTy52wGd",
        "colab": {
          "base_uri": "https://localhost:8080/"
        },
        "outputId": "ac75daa2-3109-4eb8-e44c-7332d1e9e23e"
      },
      "source": [
        "import glob, os, cv2, shutil\n",
        "import matplotlib.pyplot as plt\n",
        "import numpy as np\n",
        "import moviepy.editor as mp\n",
        "from PIL import Image"
      ],
      "execution_count": null,
      "outputs": [
        {
          "output_type": "stream",
          "text": [
            "Imageio: 'ffmpeg-linux64-v3.3.1' was not found on your computer; downloading it now.\n",
            "Try 1. Download from https://github.com/imageio/imageio-binaries/raw/master/ffmpeg/ffmpeg-linux64-v3.3.1 (43.8 MB)\n",
            "Downloading: 8192/45929032 bytes (0.0%)\b\b\b\b\b\b\b\b\b\b\b\b\b\b\b\b\b\b\b\b\b\b\b\b\b\b2400256/45929032 bytes (5.2%)\b\b\b\b\b\b\b\b\b\b\b\b\b\b\b\b\b\b\b\b\b\b\b\b\b\b\b\b\b5898240/45929032 bytes (12.8%)\b\b\b\b\b\b\b\b\b\b\b\b\b\b\b\b\b\b\b\b\b\b\b\b\b\b\b\b\b\b9535488/45929032 bytes (20.8%)\b\b\b\b\b\b\b\b\b\b\b\b\b\b\b\b\b\b\b\b\b\b\b\b\b\b\b\b\b\b13197312/45929032 bytes (28.7%)\b\b\b\b\b\b\b\b\b\b\b\b\b\b\b\b\b\b\b\b\b\b\b\b\b\b\b\b\b\b\b16728064/45929032 bytes (36.4%)\b\b\b\b\b\b\b\b\b\b\b\b\b\b\b\b\b\b\b\b\b\b\b\b\b\b\b\b\b\b\b20496384/45929032 bytes (44.6%)\b\b\b\b\b\b\b\b\b\b\b\b\b\b\b\b\b\b\b\b\b\b\b\b\b\b\b\b\b\b\b24174592/45929032 bytes (52.6%)\b\b\b\b\b\b\b\b\b\b\b\b\b\b\b\b\b\b\b\b\b\b\b\b\b\b\b\b\b\b\b26738688/45929032 bytes (58.2%)\b\b\b\b\b\b\b\b\b\b\b\b\b\b\b\b\b\b\b\b\b\b\b\b\b\b\b\b\b\b\b30040064/45929032 bytes (65.4%)\b\b\b\b\b\b\b\b\b\b\b\b\b\b\b\b\b\b\b\b\b\b\b\b\b\b\b\b\b\b\b33669120/45929032 bytes (73.3%)\b\b\b\b\b\b\b\b\b\b\b\b\b\b\b\b\b\b\b\b\b\b\b\b\b\b\b\b\b\b\b37216256/45929032 bytes (81.0%)\b\b\b\b\b\b\b\b\b\b\b\b\b\b\b\b\b\b\b\b\b\b\b\b\b\b\b\b\b\b\b40943616/45929032 bytes (89.1%)\b\b\b\b\b\b\b\b\b\b\b\b\b\b\b\b\b\b\b\b\b\b\b\b\b\b\b\b\b\b\b44613632/45929032 bytes (97.1%)\b\b\b\b\b\b\b\b\b\b\b\b\b\b\b\b\b\b\b\b\b\b\b\b\b\b\b\b\b\b\b45929032/45929032 bytes (100.0%)\n",
            "  Done\n",
            "File saved as /root/.imageio/ffmpeg/ffmpeg-linux64-v3.3.1.\n"
          ],
          "name": "stdout"
        }
      ]
    },
    {
      "cell_type": "code",
      "metadata": {
        "id": "YjwqsAj_4mLF"
      },
      "source": [
        "depth_path = \"PATH TO DEPTH VIDEOS\"\n",
        "seg_path = \"PATH TO SEGMENTATION VIDEOS\"\n",
        "sal_path = \"PATH TO SALIENCY VIDEOS\"\n",
        "\n",
        "comb_path = \"PATH TO COMBINATION PATH\""
      ],
      "execution_count": null,
      "outputs": []
    },
    {
      "cell_type": "markdown",
      "metadata": {
        "id": "YdXYcV8bG4na"
      },
      "source": [
        "## combine segmentation, saliency, on depth maps\n"
      ]
    },
    {
      "cell_type": "code",
      "metadata": {
        "id": "TN679XMEG4nc"
      },
      "source": [
        "def seg_OR_saliency(video, threshold):\n",
        "  fps = 20\n",
        "  size = (960,540)\n",
        "  vid_pathOut = comb_path + \"/%s.avi\" %video\n",
        "  out = cv2.VideoWriter(vid_pathOut,cv2.VideoWriter_fourcc(*'DIVX'), fps, size)\n",
        "\n",
        "  print(video)\n",
        "  seg_v = cv2.VideoCapture('%s/%s.mp4' % (seg_path,video))\n",
        "  sal_v = cv2.VideoCapture('%s/%s.mp4' % (sal_path,video))\n",
        "  dep_v = cv2.VideoCapture('%s/%s.mp4' % (depth_path,video))\n",
        "\n",
        "  success1 = 1\n",
        "  success2 = 1\n",
        "  success3 = 1\n",
        "\n",
        "  while success1 and success2 and success3:\n",
        "    success1, seg = seg_v.read()\n",
        "    success2, sal = sal_v.read()\n",
        "    success3, dep = dep_v.read()\n",
        "\n",
        "    if success1 == 0 or success2 == 0 or success3 == 0:\n",
        "      break\n",
        "\n",
        "    sal_fil = sal.copy()\n",
        "    threshold = np.max(sal_fil)*.90\n",
        "    # print(threshold)\n",
        "    sal_fil[sal_fil<=threshold] = 0\n",
        "    sal_fil[sal_fil>0] = 255\n",
        "\n",
        "    # normalize between [0,1]\n",
        "    sal_norm = cv2.normalize(sal_fil, None, alpha=0, beta=1, norm_type=cv2.NORM_MINMAX, dtype=cv2.CV_32F)\n",
        "    seg_norm = cv2.normalize(seg, None, alpha=0, beta=1, norm_type=cv2.NORM_MINMAX, dtype=cv2.CV_32F)\n",
        "    dep_norm = cv2.normalize(dep, None, alpha=0, beta=1, norm_type=cv2.NORM_MINMAX, dtype=cv2.CV_32F)\n",
        "    \n",
        "    seg_norm = cv2.resize(seg_norm, (sal_norm.shape[1],sal_norm.shape[0]))\n",
        "    dep_norm = cv2.resize(dep_norm, (sal_norm.shape[1],sal_norm.shape[0]))\n",
        "    seg_sal = np.max((sal_norm[:,:,0], seg_norm[:,:,0]), axis=0)\n",
        "    dep_seg_sal = dep_norm[:,:,0].copy()\n",
        "    dep_seg_sal[seg_sal==0] = 0\n",
        "\n",
        "    result = dep_seg_sal.copy() * 255\n",
        "    result3 = cv2.merge([result, result, result])\n",
        "    out.write(np.uint8(result3))\n",
        "\n",
        "  out.release()\n",
        "  cv2.destroyAllWindows()"
      ],
      "execution_count": null,
      "outputs": []
    }
  ]
}